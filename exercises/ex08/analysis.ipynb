{
 "cells": [
  {
   "cell_type": "markdown",
   "metadata": {},
   "source": [
    "# Analysis for Continuous Improvement\n",
    "\n",
    "Author Name: Benjamin Goldman\n",
    "\n",
    "9-digit PID: 730359525\n",
    "\n",
    "Continuous Improvement embraces a belief there is _always room to make things better_. It is a mindset and process we value and practice in this course. In this assignment, you are able to practice continuous improvement and contribute to the design ideas of the course.\n",
    "\n",
    "## Brainstorming Ideas\n",
    "\n",
    "Reflect on your personal experiences and observations in COMP110 and **brainstorm modifications to the course that _create value_ beyond its current design**. When brainstorming, try not to be critical of the ideas you come up with regarding scale, stakeholders impacted, or for any other reasons. In the markdown cell below, brainstorm 3 to 5 ideas you think would create value for you.\n",
    "\n",
    "Each brainstormed idea should state a. the suggested change or addition, b. what the expected value created, and c. which specific stakeholders would benefit.  If helpful, expand on the following template \"The course should (state idea here) because it will (state value created here) for (insert stakeholders here).\"\n",
    "\n",
    "Example A: \"The course should use only examples from psychology experiments because it will be more relevant for students who are psychology majors.\"\n",
    "\n",
    "Example B: \"The course should not have post-lesson questions because they are not useful for most students in the class.\""
   ]
  },
  {
   "cell_type": "markdown",
   "metadata": {},
   "source": [
    "### Part 1. Creative Ideation\n",
    "\n",
    "1. The course should require students to sign a contract promising royalties from any computer programming related financial gains in future because this added source of revenue will increase the university's operating budget.\n",
    "2. The course should continue to offer asynchronous class options at least once a week regardless of covid spread because they give students more agency over the management of their time.\n",
    "3. The course should send an email to students who have missed the deadline for completing an assignment suggesting participation in a peer tutoring lesson. This would benefit students who are forgetful or anxious about starting assignments both by providing a reminder and prompting them with an opportunity for contextualizing and starting the assignment.\n",
    "4. This course should require a minimum number of peer tutoring lessons for students with little to no prior comp sci experience. This would benefit inexperienced students by offering context and individual assistance on concepts that are already familiar to other students.\n",
    "5. This course should offer payment to its UTAs because they do fine work and should be compensated for their time and labor with more than credit for a school they are already paying to attend. It would also benefit students to have more enthusiastic TAs."
   ]
  },
  {
   "cell_type": "markdown",
   "metadata": {},
   "source": [
    "## Connecting with Available Data\n",
    "\n",
    "The data you have available for this analysis is limited to the anonymized course survey you and your peers filled out a few weeks ago. The data is found in the `survey.csv` file in this exercise directory. Each row represents an individual survey response. Each column has a description which can be found on the project write-up here: <https://22s.comp110.com/exercises/ex08.html>\n",
    "\n",
    "Review the list of available data and identify which one of your ideas _does not_, or is _least likely to_, have relevant data to support the analysis of your idea to create value. In the box below, identify which of your ideas lacks data and suggest how we might be able to collect this data in the future. One aspect of _continuous improvement_ is trying to avoid \"tunnel vision\" where possible improvements are not considered because there is no data available to analyze it. Identifying new data sources can unlock improvements!"
   ]
  },
  {
   "cell_type": "markdown",
   "metadata": {},
   "source": [
    "### Part 2. Identifying Missing Data\n",
    "\n",
    "1. Idea without sufficient data to analyze: Idea 5: Paying The TAs\n",
    "\n",
    "2. Suggestion for how to collect data to support this idea in the future: Survey the TAs as well as students and ask them if they are satisfied with the compensation for their job. Also ask if they would be more proactive/productive if they were to be financially compensated."
   ]
  },
  {
   "cell_type": "markdown",
   "metadata": {},
   "source": [
    "## Choosing an Idea to Analyze\n",
    "\n",
    "Consider those of your ideas which _do_ seem likely to have relevant data to analyze. If none of your ideas do, spend a few minutes and brainstorm another idea or two with the added connection of data available on hand and add those ideas to your brainstormed ideas list.\n",
    "\n",
    "Select the one idea which you believe is _most valuable_ to analyze relative to the others and has data to support the analysis of. In the markdown cell for Part 3 below, identify the idea you are exploring and articulate why you believe it is most valuable (e.g. widest impact, biggest opportunity for improvement, simplest change for significant improvement, and so on)."
   ]
  },
  {
   "cell_type": "markdown",
   "metadata": {},
   "source": [
    "### Part 3. Choosing Your Analysis\n",
    "\n",
    "1. Idea to analyze with available data: Idea 4 - Requiring Peer Tutoring for Inexperienced Students\n",
    "\n",
    "2. This idea is more valuable than the others brainstormed because it would create benefit for the group most in need of assistance for success in the class: inexperienced students. By evaluating a student's ability to learn new material, as well as their ability to perform or present it, students, particularly those inexperienced in what they are learning, face a unique combination of stressors. Additionally, this material carries the weight of potentially influencing future employability and therefore, future means to subsitence. Teachers, TAs, and certainly Institutional Administrators do not face such scrutinty regarding material to which they are not familiar. Because of this, it is most beneficial to prioritize inexperienced students in our creating value."
   ]
  },
  {
   "cell_type": "markdown",
   "metadata": {},
   "source": [
    "## Your Analysis\n",
    "\n",
    "Before you begin analysis, a reminder that we do not expect the data to support everyone's ideas and you can complete this exercise for full credit even if the data does not clearly support your suggestion or even completely refutes it. What we are looking for is a logical attempt to explore the data using the techniques you have learned up until now in a way that _either_ supports, refutes, or does not have a clear result and then to reflect on your findings after the analysis.\n",
    "\n",
    "Using the utility functions you created for the previous exercise, you will continue with your analysis in the following part. Before you begin, refer to the rubric on the technical expectations of this section in the exercise write-up.\n",
    "\n",
    "In this section, you are expected to interleave code and markdown cells such that for each step of your analysis you are starting with an English description of what you are planning to do next in a markdown cell, followed by a Python cell that performs that step of the analysis."
   ]
  },
  {
   "cell_type": "markdown",
   "metadata": {},
   "source": [
    "### Part 4. Analysis\n",
    "\n",
    "We begin by changing some settings in the notebook to automatically reload changes to imported files."
   ]
  },
  {
   "cell_type": "code",
   "execution_count": 1,
   "metadata": {},
   "outputs": [],
   "source": [
    "%reload_ext autoreload\n",
    "%autoreload 2"
   ]
  },
  {
   "cell_type": "markdown",
   "metadata": {},
   "source": [
    "We continue by importing the helper functions from `data_utils`."
   ]
  },
  {
   "cell_type": "code",
   "execution_count": 3,
   "metadata": {},
   "outputs": [],
   "source": [
    "from data_utils import read_csv_rows, head, column_values, columnar, select, count"
   ]
  },
  {
   "cell_type": "markdown",
   "metadata": {},
   "source": [
    "Next, we transform the csv file into a column-based dictionary using columnar and read_csv_rows. We also create a variable that will be used to reference the set of total data."
   ]
  },
  {
   "cell_type": "code",
   "execution_count": 5,
   "metadata": {},
   "outputs": [],
   "source": [
    "SURVEY_DATA_CSV_FILE_PATH: str = \"../../data/survey.csv\"\n",
    "\n",
    "survey_data: dict[str, list[str]] = columnar(read_csv_rows(SURVEY_DATA_CSV_FILE_PATH))"
   ]
  },
  {
   "cell_type": "markdown",
   "metadata": {},
   "source": [
    "From the total data we will first look at how the students ranked the overall assistance of the peer tutoring in helping students learn the topic. This is done by isolating the student responses to tutoring_effective in a separate dict and then counting the frequency of these responses."
   ]
  },
  {
   "cell_type": "code",
   "execution_count": 14,
   "metadata": {},
   "outputs": [
    {
     "name": "stdout",
     "output_type": "stream",
     "text": [
      "{'': 365, '6': 40, '4': 92, '3': 11, '7': 62, '5': 44, '1': 3, '2': 3}\n"
     ]
    }
   ],
   "source": [
    "tutoring_responses: dict[str, list[str]] = select(survey_data, [\"tutoring_effective\"])\n",
    "votes: dict[str, int] = (count(tutoring_responses[\"tutoring_effective\"]))\n",
    "print(votes)"
   ]
  },
  {
   "cell_type": "markdown",
   "metadata": {},
   "source": [
    "Then, we print the data into a display chart that is used to visually represent the available data. We will also provide a blank box of a chart to help will our imagination into exploring new ideas. The exact details of how and why to do this are beyond the scope of our concerns."
   ]
  },
  {
   "cell_type": "code",
   "execution_count": 28,
   "metadata": {},
   "outputs": [
    {
     "data": {
      "image/png": "[encoded data removed]",
      "text/plain": [
       "<Figure size 864x360 with 2 Axes>"
      ]
     },
     "metadata": {
      "needs_background": "light"
     },
     "output_type": "display_data"
    }
   ],
   "source": [
    "from matplotlib import pyplot as plt\n",
    "\n",
    "fig, axes = plt.subplots(1, 2, figsize=(12, 5), sharey=True)\n",
    "fig.suptitle(\"Is tutoring effective in helping students learn class topics?\")\n",
    "\n",
    "axes[0].set_title(\"Effectiveness of TA Review Sessions\")\n",
    "axes[0].bar(votes.keys(), votes.values())\n",
    "axes[0].tick_params(axis='x', labelrotation = 40)"
   ]
  },
  {
   "cell_type": "markdown",
   "metadata": {},
   "source": [
    "## Conclusion\n",
    "\n",
    "In the following markdown cell, write a reflective conclusion given the analysis you performed and identify recommendations.\n",
    "\n",
    "If your analysis of the data supports your idea, state your recommendation for the change and summarize the data analysys results you found which support it. Additionally, describe any extensions or refinements to this idea which might be explored further. Finally, discuss the potential costs, trade-offs, or stakeholders who may be negatively impacted by this proposed change.\n",
    "\n",
    "If your analysis of the data is inconclusive, summarize why your data analysis results were inconclusive in the support of your idea. Additionally, describe what experimental idea implementation or additional data collection might help build more confidence in assessing your idea. Finally, discuss the potential costs, trade-offs, or stakeholders who may be negatively impacted by experimenting with your idea.\n",
    "\n",
    "Finally, if your analysis of the data does not support it, summarize your data analysis results and why it refutes your idea. Discuss the potential costs, trade-offs, or stakeholders who may be negatively impacted by this proposed change. If you disagree with the validity of the findings, describe why your idea still makes sense to implement and what alternative data would better support it. If you agree with the validity of the data analysis, describe what alternate ideas or extensions you would explore instead. "
   ]
  },
  {
   "cell_type": "markdown",
   "metadata": {},
   "source": [
    "### Part 5. Conclusion\n",
    "\n"
   ]
  },
  {
   "cell_type": "markdown",
   "metadata": {},
   "source": [
    "This data analysis showed through student responses this semester that among students who utilized Peer Tutoring lessons, a significant majority felt that the lessons helped them better learn the topics of the course (answered 5, 6, or 7). This strongly indicates that by prescribing peer tutoring to inexperienced students, their understanding of class topics and ability to learn them will improve. However, it must also be considered that if there is a period of required peer tutoring, the burden of work maintained by the tutors will increase and an increase in available tutors is recommended to meet this need.\n",
    "\n",
    "Additionally, this work could be continued by a more investigative analysis regarding characteristics of students that do utilize peer tutoring voluntarily in an effort to spread these characteristics among the class. Furthermore, we may be interested in honing the definition of an inexperienced student (potentially defined by a lack of prior class or self-taught experience, or an aversion to technology in general). If these students are already taking a significant portion of peer tutoring lessons, a requirement may be less than necessary, as it would replace an intrinsic motivator with an extrinsic one. However, by making it a class requirment students would also feel less of the stigma against asking for help."
   ]
  }
 ],
 "metadata": {
  "interpreter": {
   "hash": "aee8b7b246df8f9039afb4144a1f6fd8d2ca17a180786b69acc140d282b71a49"
  },
  "kernelspec": {
   "display_name": "Python 3.10.2 64-bit",
   "language": "python",
   "name": "python3"
  },
  "language_info": {
   "codemirror_mode": {
    "name": "ipython",
    "version": 3
   },
   "file_extension": ".py",
   "mimetype": "text/x-python",
   "name": "python",
   "nbconvert_exporter": "python",
   "pygments_lexer": "ipython3",
   "version": "3.10.1"
  },
  "orig_nbformat": 4
 },
 "nbformat": 4,
 "nbformat_minor": 2
}
